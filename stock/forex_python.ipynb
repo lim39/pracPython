{
 "cells": [
  {
   "cell_type": "markdown",
   "metadata": {},
   "source": [
    "### 라이브러리 호출"
   ]
  },
  {
   "cell_type": "code",
   "execution_count": 34,
   "metadata": {},
   "outputs": [],
   "source": [
    "from forex_python.converter import CurrencyRates\n",
    "from forex_python.converter import CurrencyCodes\n",
    "from currency_converter import CurrencyConverter\n",
    "import pandas as pd\n",
    "import datetime as dt\n",
    "\n",
    "cc= CurrencyConverter()\n",
    "cr = CurrencyRates()\n",
    "cd = CurrencyCodes()"
   ]
  },
  {
   "cell_type": "markdown",
   "metadata": {},
   "source": [
    "### 통화 코드 리스트"
   ]
  },
  {
   "cell_type": "code",
   "execution_count": 7,
   "metadata": {},
   "outputs": [
    {
     "name": "stdout",
     "output_type": "stream",
     "text": [
      "{'RUB', 'LTL', 'MTL', 'SIT', 'RON', 'BRL', 'DKK', 'AUD', 'NZD', 'JPY', 'ILS', 'CHF', 'PHP', 'CYP', 'USD', 'EEK', 'THB', 'ISK', 'SGD', 'SEK', 'PLN', 'MXN', 'HRK', 'IDR', 'CAD', 'CZK', 'CNY', 'TRY', 'BGN', 'INR', 'KRW', 'MYR', 'LVL', 'GBP', 'HKD', 'NOK', 'HUF', 'ZAR', 'EUR', 'TRL', 'SKK', 'ROL'}\n"
     ]
    }
   ],
   "source": [
    "currency_ls= cc.currencies\n",
    "print(currency_ls)"
   ]
  },
  {
   "cell_type": "markdown",
   "metadata": {},
   "source": [
    "### 각 화폐 단위에 따른 환율"
   ]
  },
  {
   "cell_type": "code",
   "execution_count": 36,
   "metadata": {},
   "outputs": [
    {
     "name": "stdout",
     "output_type": "stream",
     "text": [
      "USD  - currency rate:\n",
      " {'EUR': 0.9372071227741331, 'JPY': 151.7900656044986, 'BGN': 1.8329896907216496, 'CZK': 23.037488284910967, 'DKK': 6.991377694470478, 'GBP': 0.8168228678537958, 'HUF': 353.514526710403, 'PLN': 4.149953139643862, 'RON': 4.658856607310216, 'SEK': 10.880974695407685, 'CHF': 0.904967197750703, 'ISK': 143.67385192127463, 'NOK': 11.131208997188379, 'TRY': 28.588659793814436, 'AUD': 1.5690721649484536, 'BRL': 4.929615745079663, 'CAD': 1.382755388940956, 'CNY': 7.290909090909091, 'HKD': 7.807778819119026, 'IDR': 15700.000000000002, 'INR': 83.26522961574508, 'KRW': 1324.9484536082475, 'MXN': 17.696344892221184, 'MYR': 4.70796626054358, 'NZD': 1.7002811621368323, 'PHP': 56.08434864104967, 'SGD': 1.3608247422680413, 'THB': 35.99531396438613, 'ZAR': 18.7464854732896}\n"
     ]
    }
   ],
   "source": [
    "currency= 'USD'\n",
    "currency_rate = cr.get_rates(currency)\n",
    "print(currency,' - currency rate:\\n',currency_rate)\n"
   ]
  },
  {
   "cell_type": "code",
   "execution_count": 51,
   "metadata": {},
   "outputs": [
    {
     "name": "stdout",
     "output_type": "stream",
     "text": [
      "1324.9484536082475\n",
      "0.0007542923058527287\n"
     ]
    }
   ],
   "source": [
    "# KRW 기준 USD 환율 => 1 USD = 1 KRW / n % \n",
    "usd_krw = cr.get_rates('USD')['KRW']\n",
    "print(usd_krw)\n",
    "# USD 기준 KRW 환율 => 1 KRW = 1 USD / n % \n",
    "krw_usd = cr.get_rates('KRW')['USD']\n",
    "print(krw_usd)"
   ]
  },
  {
   "cell_type": "markdown",
   "metadata": {},
   "source": [
    "### A통화 to B통화 환전율"
   ]
  },
  {
   "cell_type": "code",
   "execution_count": 55,
   "metadata": {},
   "outputs": [
    {
     "name": "stdout",
     "output_type": "stream",
     "text": [
      "1314.87(W/%)\n"
     ]
    }
   ],
   "source": [
    "A='USD'\n",
    "B='KRW'\n",
    "DATE= dt.datetime.now().strftime('%Y-%m-%d')\n",
    "DATE=dt.datetime.strptime(DATE,'%Y-%m-%d')\n",
    "\n",
    "B_symbol= cd.get_symbol(B)\n",
    "# B_currency_name= cd.get_currency_name(B)\n",
    "\n",
    "A_to_B=round(cr.get_rate(A,B,DATE),2)\n",
    "print(f'{A_to_B}({B_symbol}/%)')"
   ]
  },
  {
   "cell_type": "markdown",
   "metadata": {},
   "source": [
    "### A통화 to B통화 환전액"
   ]
  },
  {
   "cell_type": "code",
   "execution_count": 58,
   "metadata": {},
   "outputs": [
    {
     "name": "stdout",
     "output_type": "stream",
     "text": [
      "USD($) -> KRW(W)\n",
      ": 10$ -> 13148.69W\n"
     ]
    }
   ],
   "source": [
    "A='USD'\n",
    "B='KRW'\n",
    "A_UNIT= 10\n",
    "DATE= dt.datetime.now().strftime('%Y-%m-%d')\n",
    "DATE=dt.datetime.strptime(DATE,'%Y-%m-%d')\n",
    "\n",
    "A_symbol= cd.get_symbol(A)\n",
    "B_symbol= cd.get_symbol(B)\n",
    "# B_currency_name= cd.get_currency_name(B)\n",
    "\n",
    "A_to_B=round(cr.convert(A,B,A_UNIT,DATE),2)\n",
    "print(f'{A}({A_symbol}) -> {B}({B_symbol})\\n: {A_UNIT}{A_symbol} -> {A_to_B}{B_symbol}')"
   ]
  },
  {
   "cell_type": "markdown",
   "metadata": {},
   "source": [
    "### 날짜별 환율 정보"
   ]
  },
  {
   "cell_type": "code",
   "execution_count": 50,
   "metadata": {},
   "outputs": [
    {
     "name": "stdout",
     "output_type": "stream",
     "text": [
      "<class 'datetime.datetime'>\n",
      "2014-05-23 00:00:00\n"
     ]
    }
   ],
   "source": [
    "date=dt.datetime.strptime('2014-05-23','%Y-%m-%d')\n",
    "print(type(date))\n",
    "print(date)\n",
    "currency= 'USD'\n",
    "currency_rate = cr.get_rates(currency)\n",
    "print(currency,' - currency rate:\\n',currency_rate)\n",
    "print(c.get_rates('USD', date)['KRW'])\n"
   ]
  },
  {
   "cell_type": "markdown",
   "metadata": {},
   "source": [
    "### 모든 통화별 환율 경우의 수 조회"
   ]
  },
  {
   "cell_type": "code",
   "execution_count": null,
   "metadata": {},
   "outputs": [],
   "source": [
    "merge_df= pd.DataFrame(columns=['from_cur','to_cur','value'])\n",
    "\n",
    "i= 'USD'\n",
    "currency_rate = cr.get_rates(i)\n",
    "# print(i,'- currency rate:\\n',currency_rate)\n",
    "\n",
    "# 결과를 저장할 리스트\n",
    "result_list = []\n",
    "\n",
    "# 데이터 전처리 및 리스트에 추가\n",
    "for key, values in currency_rate.items():\n",
    "    if not isinstance(values, str):\n",
    "        values = str(values)\n",
    "\n",
    "    for value in values.split('|'):\n",
    "        result_list.append({'to_cur': key, 'value': value.strip()})\n",
    "\n",
    "# 리스트를 DataFrame으로 변환\n",
    "result_df = pd.DataFrame(result_list)\n",
    "result_df['from_cur']= i\n",
    "result_df=result_df[['from_cur','to_cur','value']]\n",
    "\n",
    "merge_df=pd.concat([merge_df, result_df], ignore_index=True)\n",
    "print(merge_df)\n",
    "\n"
   ]
  },
  {
   "cell_type": "code",
   "execution_count": 79,
   "metadata": {},
   "outputs": [
    {
     "name": "stdout",
     "output_type": "stream",
     "text": [
      "     from_cur to_cur                   value\n",
      "0         RUB    EUR    0.008532350406566497\n",
      "1         RUB    USD    0.009523809523809525\n",
      "2         RUB    JPY      1.0934207046014968\n",
      "3         RUB    BGN    0.016687570925162754\n",
      "4         RUB    CZK     0.21727630310321586\n",
      "...       ...    ...                     ...\n",
      "1267      ROL    NZD   4.825700804884818e-05\n",
      "1268      ROL    PHP   0.0018785734110463503\n",
      "1269      ROL    SGD  5.6555648071051904e-05\n",
      "1270      ROL    THB   0.0013860116569525396\n",
      "1271      ROL    ZAR   0.0002227421593116847\n",
      "\n",
      "[1272 rows x 3 columns]\n"
     ]
    }
   ],
   "source": [
    "\n",
    "######################################################\n",
    "# 모든 화폐 단위별 환율데이터 조회\n",
    "######################################################\n",
    "\n",
    "merge_df= pd.DataFrame(columns=['from_cur','to_cur','value'])\n",
    "\n",
    "for i in currency_ls:\n",
    "    currency_rate = cr.get_rates(i)\n",
    "    # 결과를 저장할 리스트\n",
    "    result_list = []\n",
    "\n",
    "    # 데이터 전처리 및 리스트에 추가\n",
    "    for key, values in currency_rate.items():\n",
    "        if not isinstance(values, str):\n",
    "            values = str(values)\n",
    "\n",
    "        for value in values.split('|'):\n",
    "            result_list.append({'to_cur': key, 'value': value.strip()})\n",
    "\n",
    "    # 리스트를 DataFrame으로 변환\n",
    "    result_df = pd.DataFrame(result_list)\n",
    "    result_df['from_cur']= i\n",
    "    result_df=result_df[['from_cur','to_cur','value']]\n",
    "    \n",
    "    # print(i,'-currency rate:\\n',currency_rate)\n",
    "\n",
    "    merge_df=pd.concat([merge_df, result_df], ignore_index=True)\n",
    "\n",
    "print(merge_df)\n"
   ]
  },
  {
   "cell_type": "markdown",
   "metadata": {},
   "source": [
    "### 출처\n",
    "https://forex-python.readthedocs.io/en/latest/usage.html#currency-symbols-codes\n",
    "\n",
    "https://pypi.org/project/CurrencyConverter/"
   ]
  }
 ],
 "metadata": {
  "kernelspec": {
   "display_name": "py38_env",
   "language": "python",
   "name": "python3"
  },
  "language_info": {
   "codemirror_mode": {
    "name": "ipython",
    "version": 3
   },
   "file_extension": ".py",
   "mimetype": "text/x-python",
   "name": "python",
   "nbconvert_exporter": "python",
   "pygments_lexer": "ipython3",
   "version": "3.8.16"
  },
  "orig_nbformat": 4
 },
 "nbformat": 4,
 "nbformat_minor": 2
}
