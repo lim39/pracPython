{
 "cells": [
  {
   "cell_type": "markdown",
   "metadata": {},
   "source": [
    "### 라이브러리 호출"
   ]
  },
  {
   "cell_type": "code",
   "execution_count": 34,
   "metadata": {},
   "outputs": [],
   "source": [
    "from forex_python.converter import CurrencyRates\n",
    "from forex_python.converter import CurrencyCodes\n",
    "from currency_converter import CurrencyConverter\n",
    "import pandas as pd\n",
    "import datetime as dt"
   ]
  },
  {
   "cell_type": "markdown",
   "metadata": {},
   "source": [
    "### 통화 코드 리스트"
   ]
  },
  {
   "cell_type": "code",
   "execution_count": 7,
   "metadata": {},
   "outputs": [
    {
     "name": "stdout",
     "output_type": "stream",
     "text": [
      "{'RUB', 'LTL', 'MTL', 'SIT', 'RON', 'BRL', 'DKK', 'AUD', 'NZD', 'JPY', 'ILS', 'CHF', 'PHP', 'CYP', 'USD', 'EEK', 'THB', 'ISK', 'SGD', 'SEK', 'PLN', 'MXN', 'HRK', 'IDR', 'CAD', 'CZK', 'CNY', 'TRY', 'BGN', 'INR', 'KRW', 'MYR', 'LVL', 'GBP', 'HKD', 'NOK', 'HUF', 'ZAR', 'EUR', 'TRL', 'SKK', 'ROL'}\n"
     ]
    }
   ],
   "source": [
    "cc= CurrencyConverter()\n",
    "currency_ls= cc.currencies\n",
    "print(currency_ls)"
   ]
  },
  {
   "cell_type": "code",
   "execution_count": 13,
   "metadata": {},
   "outputs": [
    {
     "name": "stdout",
     "output_type": "stream",
     "text": [
      "<class 'type'>\n",
      "<function DataFrame.info at 0x000001E47FB58DC0>\n"
     ]
    }
   ],
   "source": [
    "df= pd.DataFrame\n",
    "print(df.info)"
   ]
  },
  {
   "cell_type": "markdown",
   "metadata": {},
   "source": [
    "### 원하는 환율 정보 얻기"
   ]
  },
  {
   "cell_type": "code",
   "execution_count": 36,
   "metadata": {},
   "outputs": [
    {
     "name": "stdout",
     "output_type": "stream",
     "text": [
      "USD  - currency rate:\n",
      " {'EUR': 0.9372071227741331, 'JPY': 151.7900656044986, 'BGN': 1.8329896907216496, 'CZK': 23.037488284910967, 'DKK': 6.991377694470478, 'GBP': 0.8168228678537958, 'HUF': 353.514526710403, 'PLN': 4.149953139643862, 'RON': 4.658856607310216, 'SEK': 10.880974695407685, 'CHF': 0.904967197750703, 'ISK': 143.67385192127463, 'NOK': 11.131208997188379, 'TRY': 28.588659793814436, 'AUD': 1.5690721649484536, 'BRL': 4.929615745079663, 'CAD': 1.382755388940956, 'CNY': 7.290909090909091, 'HKD': 7.807778819119026, 'IDR': 15700.000000000002, 'INR': 83.26522961574508, 'KRW': 1324.9484536082475, 'MXN': 17.696344892221184, 'MYR': 4.70796626054358, 'NZD': 1.7002811621368323, 'PHP': 56.08434864104967, 'SGD': 1.3608247422680413, 'THB': 35.99531396438613, 'ZAR': 18.7464854732896}\n"
     ]
    }
   ],
   "source": [
    "cr = CurrencyRates()\n",
    "\n",
    "currency= 'USD'\n",
    "currency_rate = cr.get_rates(currency)\n",
    "print(currency,' - currency rate:\\n',currency_rate)\n"
   ]
  },
  {
   "cell_type": "markdown",
   "metadata": {},
   "source": [
    "### A통화 to B통화 conversion rate"
   ]
  },
  {
   "cell_type": "code",
   "execution_count": 40,
   "metadata": {},
   "outputs": [
    {
     "name": "stdout",
     "output_type": "stream",
     "text": [
      "1297.43 W (South Korean won)\n"
     ]
    }
   ],
   "source": [
    "cd = CurrencyCodes()\n",
    "\n",
    "A='USD'\n",
    "B='KRW'\n",
    "DATE= '2024-01-02'\n",
    "DATE=dt.datetime.strptime(DATE,'%Y-%m-%d')\n",
    "\n",
    "B_symbol= cd.get_symbol(B)\n",
    "B_currency_name= cd.get_currency_name(B)\n",
    "\n",
    "USD_to_KRW=round(cr.get_rate(A,B,DATE),2)\n",
    "print(USD_to_KRW,B_symbol,f'({B_currency_name})')"
   ]
  },
  {
   "cell_type": "markdown",
   "metadata": {},
   "source": [
    "### A통화 to B통화 exchange rates"
   ]
  },
  {
   "cell_type": "code",
   "execution_count": 30,
   "metadata": {},
   "outputs": [
    {
     "name": "stdout",
     "output_type": "stream",
     "text": [
      "2594.86\n"
     ]
    }
   ],
   "source": [
    "A='USD'\n",
    "B='KRW'\n",
    "A_UNIT= 2\n",
    "DATE= '2024-01-02'\n",
    "DATE=dt.datetime.strptime(DATE,'%Y-%m-%d')\n",
    "\n",
    "# B_symbol= \n",
    "\n",
    "USD_to_KRW=round(cr.convert(A,B,A_UNIT,DATE),2)\n",
    "print(USD_to_KRW)"
   ]
  },
  {
   "cell_type": "code",
   "execution_count": 23,
   "metadata": {},
   "outputs": [
    {
     "name": "stdout",
     "output_type": "stream",
     "text": [
      "<class 'datetime.datetime'>\n",
      "2014-05-23 18:36:28.151012\n"
     ]
    }
   ],
   "source": [
    "date=dt.datetime(2014, 5, 23, 18, 36, 28, 151012)\n",
    "print(type(date))\n",
    "print(date)"
   ]
  },
  {
   "cell_type": "code",
   "execution_count": null,
   "metadata": {},
   "outputs": [],
   "source": [
    "cr = CurrencyRates()\n",
    "\n",
    "df= pd.DataFrame\n",
    "\n",
    "i= 'USD'\n",
    "currency_rate = cr.get_rates(i)\n",
    "print(i,'- currency rate:\\n',currency_rate)\n",
    "# get_rates 함수에 들어간 인자 제외한 \n",
    "# for i in currency_ls:\n",
    "#     currency_rate = cr.get_rates(i)\n",
    "#     df= df.insert()\n",
    "#     print(i,'-currency rate:\\n',currency_rate)\n"
   ]
  },
  {
   "cell_type": "markdown",
   "metadata": {},
   "source": [
    "### 출처\n",
    "https://forex-python.readthedocs.io/en/latest/usage.html#currency-symbols-codes\n",
    "\n",
    "https://pypi.org/project/CurrencyConverter/"
   ]
  }
 ],
 "metadata": {
  "kernelspec": {
   "display_name": "py38_env",
   "language": "python",
   "name": "python3"
  },
  "language_info": {
   "codemirror_mode": {
    "name": "ipython",
    "version": 3
   },
   "file_extension": ".py",
   "mimetype": "text/x-python",
   "name": "python",
   "nbconvert_exporter": "python",
   "pygments_lexer": "ipython3",
   "version": "3.8.16"
  },
  "orig_nbformat": 4
 },
 "nbformat": 4,
 "nbformat_minor": 2
}
